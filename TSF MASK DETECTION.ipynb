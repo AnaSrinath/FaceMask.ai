{
 "cells": [
  {
   "cell_type": "code",
   "execution_count": 1,
   "metadata": {},
   "outputs": [],
   "source": [
    "## importing the dependencies\n",
    "\n",
    "from tensorflow.keras.models import Sequential, load_model\n",
    "from tensorflow.keras.layers import Conv2D, MaxPooling2D, Dense, Flatten, Dropout, Activation\n",
    "from tensorflow.keras.utils import to_categorical\n",
    "from sklearn.model_selection import train_test_split\n",
    "import matplotlib.pyplot as plt\n",
    "from PIL import Image\n",
    "import numpy as np\n",
    "import cv2\n",
    "import os\n",
    "\n",
    "%matplotlib inline"
   ]
  },
  {
   "cell_type": "markdown",
   "metadata": {},
   "source": [
    "##### Data Handling"
   ]
  },
  {
   "cell_type": "code",
   "execution_count": 2,
   "metadata": {},
   "outputs": [
    {
     "name": "stdout",
     "output_type": "stream",
     "text": [
      "Obtaining Images & its Labels..............\n",
      "\n",
      "1 2 3 4 5 6 7 8 9 10 11 12 13 14 15 16 17 18 19 20 21 22 23 24 25 26 27 28 29 30 31 32 33 34 35 36 37 38 39 40 41 42 43 44 45 46 47 48 49 50 51 52 53 54 55 56 57 58 59 60 61 62 63 64 65 66 67 68 69 70 71 72 73 74 75 76 77 78 79 80 81 82 83 84 85 86 87 88 89 90 91 92 93 94 95 96 97 98 99 100 101 102 103 104 105 106 107 108 109 110 111 112 113 114 115 116 117 118 119 120 121 122 123 124 125 126 127 128 129 130 131 132 133 134 135 136 137 138 139 140 141 142 143 144 145 146 147 148 149 150 151 152 153 154 155 156 157 158 159 160 161 162 163 164 165 166 167 168 169 170 171 172 173 174 175 176 177 178 179 180 181 182 183 184 185 186 187 188 189 190 191 192 193 194 195 196 197 198 199 200 201 202 203 204 205 206 207 208 209 210 211 212 213 214 215 216 217 218 219 220 221 222 223 224 225 226 227 228 229 230 231 232 233 234 235 236 237 238 239 240 241 242 243 244 245 246 247 248 249 250 251 252 253 254 255 256 257 258 259 260 261 262 263 264 265 266 267 268 269 270 271 272 273 274 275 276 277 278 279 280 281 282 283 284 285 286 287 288 289 290 291 292 293 294 295 296 297 298 299 300 301 302 303 304 305 306 307 308 309 310 311 312 313 314 315 316 317 318 319 320 321 322 323 324 325 326 327 328 329 330 331 332 333 334 335 336 337 338 339 340 341 342 343 344 345 346 347 348 349 350 351 352 353 354 355 356 357 358 359 360 361 362 363 364 365 366 367 368 369 370 371 372 373 374 375 376 377 378 379 380 381 382 383 384 385 386 387 388 389 390 391 392 393 394 395 396 397 398 399 400 401 402 403 404 405 406 407 408 409 410 411 412 413 414 415 416 417 418 419 420 421 422 423 424 425 426 427 428 429 430 431 432 433 434 435 436 437 438 439 440 441 442 443 444 445 446 447 448 449 450 451 452 453 454 455 456 457 458 459 460 461 462 463 464 465 466 467 468 469 470 471 472 473 474 475 476 477 478 479 480 481 482 483 484 485 486 487 488 489 490 491 492 493 494 495 496 497 498 499 500 501 502 503 504 505 506 507 508 509 510 511 512 513 514 515 516 517 518 519 520 521 522 523 524 525 526 527 528 529 530 531 532 533 534 535 536 537 538 539 540 541 542 543 544 545 546 547 548 549 550 551 552 553 554 555 556 557 558 559 560 561 562 563 564 565 566 567 568 569 570 571 572 573 574 575 576 577 578 579 580 581 582 583 584 585 586 587 588 589 590 591 592 593 594 595 596 597 598 599 600 601 602 603 604 605 606 607 608 609 610 611 612 613 614 615 616 617 618 619 620 621 622 623 624 625 626 627 628 629 630 631 632 633 634 635 636 637 638 639 640 641 642 643 644 645 646 647 648 649 650 651 652 653 654 655 656 657 658 659 660 661 662 663 664 665 666 667 668 669 670 671 672 673 674 675 676 677 678 679 680 681 682 683 684 685 686 687 688 689 690 691 692 693 694 695 696 697 698 699 700 701 702 703 704 705 706 707 708 709 710 711 712 713 714 715 716 717 718 719 720 721 722 723 724 725 726 727 728 729 730 731 732 733 734 735 736 737 738 739 740 741 742 743 744 745 746 747 748 749 750 751 752 753 754 755 756 757 758 759 760 761 762 763 764 765 766 767 768 769 770 771 772 773 774 775 776 777 778 779 780 781 782 783 784 785 786 787 788 789 790 791 792 793 794 795 796 797 798 799 800 801 802 803 804 805 806 807 808 809 810 811 812 813 814 815 816 817 818 819 820 821 822 823 824 825 826 827 828 829 830 831 832 833 834 835 836 837 838 839 840 841 842 843 844 845 846 847 848 849 850 851 852 853 854 855 856 857 858 859 860 861 862 863 864 865 866 867 868 869 870 871 872 873 874 875 876 877 878 879 880 881 882 883 884 885 886 887 888 889 890 891 892 893 894 895 896 897 898 899 900 901 902 903 904 905 906 907 908 909 910 911 912 913 914 915 916 917 918 919 920 921 922 923 924 925 926 927 928 929 930 931 932 933 934 935 936 937 938 939 940 941 942 943 944 945 946 947 948 949 950 951 952 953 954 955 956 957 958 959 960 961 962 963 964 965 966 967 968 969 970 971 972 973 974 975 976 977 978 979 980 981 982 983 984 985 986 987 988 989 990 991 992 993 994 995 996 997 998 999 1000 1001 1002 1003 1004 1005 1006 1007 1008 1009 1010 1011 1012 1013 1014 1015 1016 1017 1018 1019 1020 1021 1022 1023 1024 1025 1026 1027 1028 1029 1030 1031 1032 1033 1034 1035 1036 1037 1038 1039 1040 1041 1042 1043 1044 1045 1046 1047 1048 1049 1050 1051 1052 1053 1054 1055 1056 1057 1058 1059 1060 1061 1062 1063 1064 1065 1066 1067 1068 1069 1070 1071 1072 1073 1074 1075 1076 1077 1078 1079 1080 1081 1082 1083 1084 1085 1086 1087 1088 1089 1090 1091 1092 1093 1094 1095 1096 1097 1098 1099 1100 1101 1102 1103 1104 1105 1106 1107 1108 1109 1110 1111 1112 1113 1114 1115 1116 1117 1118 1119 1120 1121 1122 1123 1124 1125 1126 1127 1128 1129 1130 1131 1132 1133 1134 1135 1136 1137 1138 1139 1140 1141 1142 1143 1144 1145 1146 1147 1148 1149 1150 1151 1152 1153 1154 1155 1156 1157 1158 1159 1160 1161 1162 1163 1164 1165 1166 1167 1168 1169 1170 1171 1172 1173 1174 1175 1176 1177 1178 1179 1180 1181 1182 1183 1184 1185 1186 1187 1188 1189 1190 1191 1192 1193 1194 1195 1196 1197 1198 1199 1200 1201 1202 1203 1204 1205 1206 1207 1208 1209 1210 1211 1212 1213 1214 1215 1216 1217 1218 1219 1220 1221 1222 1223 1224 1225 1226 1227 1228 1229 1230 1231 1232 1233 1234 1235 1236 1237 1238 1239 1240 1241 1242 1243 1244 1245 1246 1247 1248 1249 1250 1251 1252 1253 1254 1255 1256 1257 1258 1259 1260 1261 1262 1263 1264 1265 1266 1267 1268 1269 1270 1271 1272 1273 1274 1275 1276 1277 1278 1279 1280 1281 1282 1283 1284 1285 1286 1287 1288 1289 1290 1291 1292 1293 1294 1295 1296 1297 1298 1299 1300 1301 1302 1303 1304 1305 1306 1307 1308 1309 1310 1311 1312 1313 1314 1315 1316 1317 1318 1319 1320 1321 1322 1323 1324 1325 1326 1327 1328 1329 1330 1331 1332 1333 1334 1335 1336 1337 1338 1339 1340 1341 1342 1343 1344 1345 1346 1347 1348 1349 1350 1351 1352 1353 1354 1355 1356 1357 1358 1359 1360 1361 1362 1363 1364 1365 1366 1367 1368 1369 1370 1371 1372 1373 1374 1375 1376 1377 1378 1379 1380 1381 1382 1383 1384 1385 1386 1387 1388 1389 1390 1391 1392 1393 1394 1395 1396 1397 1398 1399 1400 1401 1402 1403 1404 1405 1406 1407 1408 1409 1410 1411 1412 1413 1414 1415 1416 1417 1418 1419 1420 1421 1422 1423 1424 1425 1426 1427 1428 1429 1430 1431 1432 1433 1434 1435 1436 1437 1438 1439 1440 1441 1442 1443 1444 1445 1446 1447 1448 1449 1450 1451 1452 1453 1454 1455 1456 1457 1458 1459 1460 1461 1462 1463 1464 1465 1466 1467 1468 1469 1470 1471 1472 1473 1474 1475 1476 1477 1478 1479 1480 1481 1482 1483 1484 1485 1486 1487 1488 1489 1490 1491 1492 1493 1494 1495 1496 1497 1498 1499 1500 1501 1502 1503 1504 1505 1506 1507 1508 1509 1510 1511 1512 1513 1514 1515 1516 1517 1518 1519 1520 \n",
      "\n",
      "Dataset Loaded\n"
     ]
    }
   ],
   "source": [
    "## Retrieving the images and their labels\n",
    "\n",
    "p = 0\n",
    "data = []\n",
    "labels = []\n",
    "\n",
    "print(\"Obtaining Images & its Labels..............\\n\")\n",
    "for i in range(2):\n",
    "    path = os.path.join('FaceMask Dataset',str(i))\n",
    "    images = os.listdir(path)\n",
    "    \n",
    "    for a in images:\n",
    "        img_path = os.path.join(path,a)\n",
    "        img = cv2.imread(img_path)\n",
    "        \n",
    "        try:            \n",
    "            gray = cv2.cvtColor(img,cv2.COLOR_BGR2GRAY)           \n",
    "            #Coverting the image into gray scale\n",
    "            resized = cv2.resize(gray,(100,100))\n",
    "            ## for uniformity\n",
    "            data.append(resized)\n",
    "            labels.append(i)\n",
    "            p+=1\n",
    "            print(p,end=\" \")\n",
    "            \n",
    "        except Exception as e:\n",
    "            print(\"Error loading image\",e)\n",
    "            \n",
    "print(\"\\n\\nDataset Loaded\")\n"
   ]
  },
  {
   "cell_type": "code",
   "execution_count": 3,
   "metadata": {},
   "outputs": [],
   "source": [
    "import numpy as np\n",
    "\n",
    "data = np.array(data)/255.0\n",
    "data = np.reshape(data,(data.shape[0],100,100,1))\n",
    "target = np.array(labels)\n",
    "\n",
    "from tensorflow.keras.utils import to_categorical\n",
    "target = to_categorical(target,2)\n",
    "\n",
    "# np.shape(data) --> (108, 100, 100, 1)\n",
    "# np.shape(target) -->(108, 2)"
   ]
  },
  {
   "cell_type": "markdown",
   "metadata": {},
   "source": [
    "##### Building the model"
   ]
  },
  {
   "cell_type": "code",
   "execution_count": 4,
   "metadata": {},
   "outputs": [],
   "source": [
    "model = Sequential()\n",
    "\n",
    "model.add(Conv2D(200,(3,3),input_shape=data.shape[1:],activation='relu'))\n",
    "model.add(MaxPooling2D(pool_size=(2,2)))\n",
    "#The first CNN layer followed by Relu and MaxPooling layers\n",
    "\n",
    "model.add(Conv2D(100,(3,3),activation='relu'))\n",
    "model.add(MaxPooling2D(pool_size=(2,2)))\n",
    "#The second convolution layer followed by Relu and MaxPooling layers\n",
    "\n",
    "model.add(Flatten())\n",
    "model.add(Dropout(0.5))\n",
    "#Flatten layer to stack the output convolutions from second convolution layer\n",
    "model.add(Dense(50,activation='relu'))\n",
    "#Dense layer of 64 neurons\n",
    "model.add(Dense(2,activation='softmax'))\n",
    "#The Final layer with two outputs for two categories\n",
    "\n",
    "model.compile(loss='categorical_crossentropy',optimizer='adam',metrics=['accuracy'])\n"
   ]
  },
  {
   "cell_type": "markdown",
   "metadata": {},
   "source": [
    "##### Training the model"
   ]
  },
  {
   "cell_type": "code",
   "execution_count": 5,
   "metadata": {},
   "outputs": [
    {
     "name": "stdout",
     "output_type": "stream",
     "text": [
      "(1216, 100, 100, 1)\n",
      "(304, 100, 100, 1)\n",
      "(1216, 2)\n",
      "(304, 2)\n"
     ]
    }
   ],
   "source": [
    "## Performing the Train-Test Split\n",
    "\n",
    "from sklearn.model_selection import train_test_split\n",
    "X_train, X_test, y_train, y_test = train_test_split(data,target,test_size=0.2,random_state=42)\n",
    "\n",
    "print(np.shape(X_train))\n",
    "print(np.shape(X_test))\n",
    "print(np.shape(y_train))\n",
    "print(np.shape(y_test))\n"
   ]
  },
  {
   "cell_type": "code",
   "execution_count": 6,
   "metadata": {},
   "outputs": [
    {
     "name": "stdout",
     "output_type": "stream",
     "text": [
      "Epoch 1/25\n",
      "38/38 [==============================] - 47s 1s/step - loss: 0.7395 - accuracy: 0.5312 - val_loss: 0.6777 - val_accuracy: 0.6316\n",
      "Epoch 2/25\n",
      "38/38 [==============================] - 48s 1s/step - loss: 0.6198 - accuracy: 0.6637 - val_loss: 0.6437 - val_accuracy: 0.5625\n",
      "Epoch 3/25\n",
      "38/38 [==============================] - 47s 1s/step - loss: 0.5386 - accuracy: 0.7360 - val_loss: 0.4806 - val_accuracy: 0.7796\n",
      "Epoch 4/25\n",
      "38/38 [==============================] - 45s 1s/step - loss: 0.4349 - accuracy: 0.8109 - val_loss: 0.4271 - val_accuracy: 0.8224\n",
      "Epoch 5/25\n",
      "38/38 [==============================] - 48s 1s/step - loss: 0.3555 - accuracy: 0.8470 - val_loss: 0.5014 - val_accuracy: 0.7566\n",
      "Epoch 6/25\n",
      "38/38 [==============================] - 46s 1s/step - loss: 0.3284 - accuracy: 0.8643 - val_loss: 0.4059 - val_accuracy: 0.8289\n",
      "Epoch 7/25\n",
      "38/38 [==============================] - 56s 1s/step - loss: 0.2953 - accuracy: 0.8873 - val_loss: 0.3189 - val_accuracy: 0.8882\n",
      "Epoch 8/25\n",
      "38/38 [==============================] - 50s 1s/step - loss: 0.2746 - accuracy: 0.8914 - val_loss: 0.3010 - val_accuracy: 0.8750\n",
      "Epoch 9/25\n",
      "38/38 [==============================] - 53s 1s/step - loss: 0.2616 - accuracy: 0.8923 - val_loss: 0.3117 - val_accuracy: 0.8651\n",
      "Epoch 10/25\n",
      "38/38 [==============================] - 52s 1s/step - loss: 0.2524 - accuracy: 0.9062 - val_loss: 0.2568 - val_accuracy: 0.8947\n",
      "Epoch 11/25\n",
      "38/38 [==============================] - 49s 1s/step - loss: 0.2120 - accuracy: 0.9153 - val_loss: 0.2702 - val_accuracy: 0.8914\n",
      "Epoch 12/25\n",
      "38/38 [==============================] - 49s 1s/step - loss: 0.1939 - accuracy: 0.9326 - val_loss: 0.3139 - val_accuracy: 0.8914\n",
      "Epoch 13/25\n",
      "38/38 [==============================] - 50s 1s/step - loss: 0.1885 - accuracy: 0.9317 - val_loss: 0.2640 - val_accuracy: 0.9079\n",
      "Epoch 14/25\n",
      "38/38 [==============================] - 50s 1s/step - loss: 0.1605 - accuracy: 0.9375 - val_loss: 0.2629 - val_accuracy: 0.9046\n",
      "Epoch 15/25\n",
      "38/38 [==============================] - 50s 1s/step - loss: 0.1517 - accuracy: 0.9465 - val_loss: 0.2818 - val_accuracy: 0.9079\n",
      "Epoch 16/25\n",
      "38/38 [==============================] - 54s 1s/step - loss: 0.1387 - accuracy: 0.9433 - val_loss: 0.2711 - val_accuracy: 0.9178\n",
      "Epoch 17/25\n",
      "38/38 [==============================] - 50s 1s/step - loss: 0.1406 - accuracy: 0.9441 - val_loss: 0.2720 - val_accuracy: 0.9243\n",
      "Epoch 18/25\n",
      "38/38 [==============================] - 57s 2s/step - loss: 0.1231 - accuracy: 0.9482 - val_loss: 0.2823 - val_accuracy: 0.9112\n",
      "Epoch 19/25\n",
      "38/38 [==============================] - 58s 2s/step - loss: 0.1070 - accuracy: 0.9564 - val_loss: 0.3037 - val_accuracy: 0.9079\n",
      "Epoch 20/25\n",
      "38/38 [==============================] - 60s 2s/step - loss: 0.1206 - accuracy: 0.9564 - val_loss: 0.3281 - val_accuracy: 0.9112\n",
      "Epoch 21/25\n",
      "38/38 [==============================] - 59s 2s/step - loss: 0.1033 - accuracy: 0.9630 - val_loss: 0.2988 - val_accuracy: 0.9079\n",
      "Epoch 22/25\n",
      "38/38 [==============================] - 56s 1s/step - loss: 0.0834 - accuracy: 0.9663 - val_loss: 0.3182 - val_accuracy: 0.9145\n",
      "Epoch 23/25\n",
      "38/38 [==============================] - 56s 1s/step - loss: 0.1100 - accuracy: 0.9539 - val_loss: 0.3568 - val_accuracy: 0.9145\n",
      "Epoch 24/25\n",
      "38/38 [==============================] - 59s 2s/step - loss: 0.0675 - accuracy: 0.9729 - val_loss: 0.3685 - val_accuracy: 0.8980\n",
      "Epoch 25/25\n",
      "38/38 [==============================] - 58s 2s/step - loss: 0.0989 - accuracy: 0.9622 - val_loss: 0.3123 - val_accuracy: 0.9178\n"
     ]
    }
   ],
   "source": [
    "history = model.fit(X_train, y_train, batch_size=32, epochs=25, validation_data=(X_test, y_test))\n",
    "model.save(\"Mask1.h5\")"
   ]
  },
  {
   "cell_type": "code",
   "execution_count": 7,
   "metadata": {},
   "outputs": [
    {
     "data": {
      "image/png": "[encoded data removed]",
      "text/plain": [
       "<Figure size 432x288 with 1 Axes>"
      ]
     },
     "metadata": {
      "needs_background": "light"
     },
     "output_type": "display_data"
    }
   ],
   "source": [
    "plt.plot(history.history['accuracy'],'r',label='training accuracy')\n",
    "plt.plot(history.history['val_accuracy'],label='validation accuracy')\n",
    "plt.xlabel('# epochs')\n",
    "plt.ylabel('loss')\n",
    "plt.legend()\n",
    "plt.show()"
   ]
  },
  {
   "cell_type": "code",
   "execution_count": 8,
   "metadata": {},
   "outputs": [
    {
     "data": {
      "image/png": "[encoded data removed]",
      "text/plain": [
       "<Figure size 432x288 with 1 Axes>"
      ]
     },
     "metadata": {
      "needs_background": "light"
     },
     "output_type": "display_data"
    }
   ],
   "source": [
    "plt.plot(history.history['loss'],'r',label='training loss')\n",
    "plt.plot(history.history['val_loss'],label='validation loss')\n",
    "plt.xlabel('# epochs')\n",
    "plt.ylabel('loss')\n",
    "plt.legend()\n",
    "plt.show()"
   ]
  },
  {
   "cell_type": "code",
   "execution_count": 9,
   "metadata": {},
   "outputs": [
    {
     "name": "stdout",
     "output_type": "stream",
     "text": [
      "10/10 [==============================] - 3s 258ms/step - loss: 0.3123 - accuracy: 0.9178\n",
      "[0.31228765845298767, 0.9177631735801697]\n"
     ]
    }
   ],
   "source": [
    "print(model.evaluate(X_test,y_test))"
   ]
  },
  {
   "cell_type": "markdown",
   "metadata": {},
   "source": [
    "##### Using the model for predictions"
   ]
  },
  {
   "cell_type": "code",
   "execution_count": 10,
   "metadata": {},
   "outputs": [],
   "source": [
    "from tensorflow.keras.models import load_model\n",
    "import cv2\n",
    "import numpy as np"
   ]
  },
  {
   "cell_type": "code",
   "execution_count": 12,
   "metadata": {},
   "outputs": [],
   "source": [
    "model = load_model('Mask1.h5')\n",
    "\n",
    "dict1 = {0:'MASKED :)',1:'UNMASKED :('}\n",
    "dict2 = {0:(0,255,0),1:(0,0,255)}\n",
    "x,y,w,h,flg = 0,0,0,0,0\n",
    "\n",
    "classifier = cv2.CascadeClassifier(r'C:\\Users\\hp\\anaconda3\\Lib\\site-packages\\cv2\\data\\haarcascade_frontalface_default.xml')\n",
    "cam = cv2.VideoCapture(0)\n",
    "\n",
    "while(True):\n",
    "\n",
    "    _,img = cam.read()\n",
    "    img = cv2.flip(img,1)\n",
    "    flg = 0\n",
    "    gray = cv2.cvtColor(img,cv2.COLOR_BGR2GRAY)\n",
    "    faces = classifier.detectMultiScale(gray,1.3,5)  \n",
    "    \n",
    "    for x,y,w,h in faces:\n",
    "    \n",
    "        face_img = gray[y:y+w,x:x+w]\n",
    "        resized = cv2.resize(face_img,(100,100))\n",
    "        normalized = resized/255.0\n",
    "        reshaped = np.reshape(normalized,(1,100,100,1))\n",
    "        result = model.predict(reshaped)\n",
    "\n",
    "        flg = np.argmax(result,axis=1)[0]\n",
    "                \n",
    "        cv2.rectangle(img,(x,y),(x+w,y+h),dict2[flg],2)        \n",
    "        cv2.putText(img,dict1[flg],(x, y-10),cv2.FONT_HERSHEY_SIMPLEX,0.7,dict2[flg],2)\n",
    "    \n",
    "    if flg != 1:\n",
    "        cv2.rectangle(img,(x,y),(x+w,y+h),dict2[0],2)        \n",
    "        cv2.putText(img,dict1[0],(x, y-10),cv2.FONT_HERSHEY_SIMPLEX,0.7,dict2[0],2)\n",
    "        \n",
    "        \n",
    "    cv2.imshow('LIVE',img)\n",
    "    key=cv2.waitKey(1)\n",
    "    \n",
    "    if(key==27):\n",
    "        break\n",
    "        \n",
    "cv2.destroyAllWindows()\n",
    "cam.release()"
   ]
  },
  {
   "cell_type": "code",
   "execution_count": null,
   "metadata": {},
   "outputs": [],
   "source": []
  }
 ],
 "metadata": {
  "kernelspec": {
   "display_name": "Python 3",
   "language": "python",
   "name": "python3"
  },
  "language_info": {
   "codemirror_mode": {
    "name": "ipython",
    "version": 3
   },
   "file_extension": ".py",
   "mimetype": "text/x-python",
   "name": "python",
   "nbconvert_exporter": "python",
   "pygments_lexer": "ipython3",
   "version": "3.7.6"
  }
 },
 "nbformat": 4,
 "nbformat_minor": 4
}
